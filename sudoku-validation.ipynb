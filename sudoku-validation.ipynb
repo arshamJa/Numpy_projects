{
 "cells": [
  {
   "cell_type": "code",
   "id": "initial_id",
   "metadata": {
    "collapsed": true,
    "ExecuteTime": {
     "end_time": "2025-08-06T06:34:55.203040Z",
     "start_time": "2025-08-06T06:34:54.599922Z"
    }
   },
   "source": "import numpy as np",
   "outputs": [],
   "execution_count": 1
  },
  {
   "metadata": {
    "ExecuteTime": {
     "end_time": "2025-08-06T06:55:38.101458Z",
     "start_time": "2025-08-06T06:55:38.038648Z"
    }
   },
   "cell_type": "code",
   "source": [
    "def is_valid_group(group):\n",
    "    return np.array_equal(np.sort(group), np.arange(1, 10))\n",
    "\n",
    "\n",
    "def is_valid_sudoku(board):\n",
    "    board = np.array(board)\n",
    "    if board.shape != (9, 9):\n",
    "        return False\n",
    "    for row in board:\n",
    "        if not is_valid_group(row):\n",
    "            return False\n",
    "    for col in board.T:\n",
    "        if not is_valid_group(col):\n",
    "            return False\n",
    "    for i in range(0, 9, 3):\n",
    "        for j in range(0, 9, 3):\n",
    "            box = board[i:i + 3, j:j + 3].flatten()\n",
    "            if not is_valid_group(box):\n",
    "                return False\n",
    "    return True\n",
    "\n",
    "\n",
    "if __name__ == '__main__':\n",
    "    sudoku_board = [\n",
    "        [5, 1, 7, 6, 9, 8, 2, 3, 4],\n",
    "        [2, 8, 9, 1, 3, 4, 7, 5, 6],\n",
    "        [3, 4, 6, 7, 5, 2, 9, 8, 1],\n",
    "        [6, 9, 3, 8, 1, 7, 5, 4, 2],\n",
    "        [1, 2, 8, 9, 4, 5, 6, 7, 3],\n",
    "        [4, 7, 5, 2, 6, 3, 8, 1, 9],\n",
    "        [9, 3, 1, 4, 7, 6, 8, 2, 5],\n",
    "        [7, 5, 2, 3, 8, 9, 1, 6, 4],\n",
    "        [8, 6, 4, 5, 2, 1, 3, 9, 7]\n",
    "    ]\n",
    "    # board= [\n",
    "    #     [8, 2, 7, 1, 5, 4, 3, 9, 6],\n",
    "    #     [9, 6, 5, 3, 2, 7, 1, 4, 8],\n",
    "    #     [3, 4, 1, 6, 8, 9, 7, 5, 2],\n",
    "    #     [5, 9, 3, 4, 6, 8, 2, 7, 1],\n",
    "    #     [4, 7, 2, 5, 1, 3, 6, 8, 9],\n",
    "    #     [6, 1, 8, 9, 7, 2, 4, 3, 5],\n",
    "    #     [7, 8, 6, 2, 3, 5, 9, 1, 4],\n",
    "    #     [1, 5, 4, 7, 9, 6, 8, 2, 3],\n",
    "    #     [2, 3, 9, 8, 4, 1, 5, 6, 7]\n",
    "    # ]\n",
    "print('Valid sudoku' if is_valid_sudoku(sudoku_board) else 'Invalid sudoku')\n"
   ],
   "id": "98372c773558bc21",
   "outputs": [
    {
     "name": "stdout",
     "output_type": "stream",
     "text": [
      "Valid sudoku\n",
      "Invalid sudoku\n"
     ]
    }
   ],
   "execution_count": 15
  }
 ],
 "metadata": {
  "kernelspec": {
   "display_name": "Python 3",
   "language": "python",
   "name": "python3"
  },
  "language_info": {
   "codemirror_mode": {
    "name": "ipython",
    "version": 2
   },
   "file_extension": ".py",
   "mimetype": "text/x-python",
   "name": "python",
   "nbconvert_exporter": "python",
   "pygments_lexer": "ipython2",
   "version": "2.7.6"
  }
 },
 "nbformat": 4,
 "nbformat_minor": 5
}
