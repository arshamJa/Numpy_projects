{
 "cells": [
  {
   "cell_type": "code",
   "id": "initial_id",
   "metadata": {
    "collapsed": true,
    "ExecuteTime": {
     "end_time": "2025-08-03T09:00:02.224591Z",
     "start_time": "2025-08-03T09:00:00.594097Z"
    }
   },
   "source": "import numpy as np",
   "outputs": [],
   "execution_count": 1
  },
  {
   "metadata": {
    "ExecuteTime": {
     "end_time": "2025-08-03T09:42:26.608112Z",
     "start_time": "2025-08-03T09:42:26.509719Z"
    }
   },
   "cell_type": "code",
   "source": [
    "matrix_a = np.array([\n",
    "    [1, 2, 3],\n",
    "    [4, 5, 6]\n",
    "])\n",
    "matrix_b = np.array([\n",
    "    [7, 8, 9],\n",
    "    [10, 11, 12],\n",
    "])\n",
    "matrix_sum = matrix_a + matrix_b\n",
    "print('Sum:', matrix_sum)\n",
    "print('-----')\n",
    "matrix_diff = matrix_a - matrix_b\n",
    "print('Diff:', matrix_diff)\n",
    "print('-----')\n",
    "matrix_multi = matrix_a * matrix_b\n",
    "print('Multi:', matrix_multi)\n",
    "print('-----')\n",
    "a = np.arange(1, 7).reshape(2, 3)\n",
    "b = np.arange(7, 13).reshape(3, 2)\n",
    "print('Dot:', np.dot(a, b))\n",
    "print('-----')\n",
    "print(a.T)\n",
    "print('-----')\n",
    "a_squ = np.array([[1, 2], [5, 6]])\n",
    "print(np.linalg.det(a_squ))  # Determination of square array\n",
    "# 2x2: [[2, 1], [3, 4]] has a determinant of (2 * 4) - (1 * 3) = 5.\n",
    "print('-----')\n",
    "print('inverse:', np.linalg.inv(a_squ))\n",
    "print('-----')\n",
    "coefficients = np.array([[3, 1], [1, 2]])\n",
    "constants = np.array([9, 8])\n",
    "print(np.linalg.solve(coefficients, constants)) # X = A**-1 * B"
   ],
   "id": "a76af4fb5ce91764",
   "outputs": [
    {
     "name": "stdout",
     "output_type": "stream",
     "text": [
      "Sum: [[ 8 10 12]\n",
      " [14 16 18]]\n",
      "-----\n",
      "Diff: [[-6 -6 -6]\n",
      " [-6 -6 -6]]\n",
      "-----\n",
      "Multi: [[ 7 16 27]\n",
      " [40 55 72]]\n",
      "-----\n",
      "Dot: [[ 58  64]\n",
      " [139 154]]\n",
      "-----\n",
      "[[1 4]\n",
      " [2 5]\n",
      " [3 6]]\n",
      "-----\n",
      "-3.999999999999999\n",
      "-----\n",
      "inverse: [[-1.5   0.5 ]\n",
      " [ 1.25 -0.25]]\n",
      "-----\n",
      "[2. 3.]\n"
     ]
    }
   ],
   "execution_count": 24
  }
 ],
 "metadata": {
  "kernelspec": {
   "display_name": "Python 3",
   "language": "python",
   "name": "python3"
  },
  "language_info": {
   "codemirror_mode": {
    "name": "ipython",
    "version": 2
   },
   "file_extension": ".py",
   "mimetype": "text/x-python",
   "name": "python",
   "nbconvert_exporter": "python",
   "pygments_lexer": "ipython2",
   "version": "2.7.6"
  }
 },
 "nbformat": 4,
 "nbformat_minor": 5
}
