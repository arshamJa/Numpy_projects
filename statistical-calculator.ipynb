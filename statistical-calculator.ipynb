{
 "cells": [
  {
   "cell_type": "code",
   "id": "initial_id",
   "metadata": {
    "collapsed": true,
    "ExecuteTime": {
     "end_time": "2025-08-03T12:01:17.937261Z",
     "start_time": "2025-08-03T12:01:17.931618Z"
    }
   },
   "source": "import numpy as np",
   "outputs": [],
   "execution_count": 11
  },
  {
   "metadata": {
    "ExecuteTime": {
     "end_time": "2025-08-03T12:06:40.199984Z",
     "start_time": "2025-08-03T12:06:40.172579Z"
    }
   },
   "cell_type": "code",
   "source": [
    "data = np.array([1,2,3,4,5,6,7,8])\n",
    "print('Mean:' , np.mean(data))\n",
    "print('Median:' , np.median(data))\n",
    "print('Standard Deviation:' , np.std(data))\n",
    "print('Variance:' , np.var(data))\n",
    "print('Range:' , np.max(data) - np.min(data))"
   ],
   "id": "541f09f078a14dde",
   "outputs": [
    {
     "name": "stdout",
     "output_type": "stream",
     "text": [
      "Mean: 4.5\n",
      "Median: 4.5\n",
      "Standard Deviation: 2.29128784747792\n",
      "Variance: 5.25\n",
      "Range: 7\n"
     ]
    }
   ],
   "execution_count": 14
  }
 ],
 "metadata": {
  "kernelspec": {
   "display_name": "Python 3",
   "language": "python",
   "name": "python3"
  },
  "language_info": {
   "codemirror_mode": {
    "name": "ipython",
    "version": 2
   },
   "file_extension": ".py",
   "mimetype": "text/x-python",
   "name": "python",
   "nbconvert_exporter": "python",
   "pygments_lexer": "ipython2",
   "version": "2.7.6"
  }
 },
 "nbformat": 4,
 "nbformat_minor": 5
}
